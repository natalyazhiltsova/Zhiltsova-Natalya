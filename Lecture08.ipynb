{
 "cells": [
  {
   "cell_type": "code",
   "execution_count": 26,
   "metadata": {},
   "outputs": [
    {
     "name": "stdout",
     "output_type": "stream",
     "text": [
      "Audi\n"
     ]
    }
   ],
   "source": [
    "#1\n",
    "class Vehicle:\n",
    "            def set_max_speed(self, max_speed):\n",
    "                self.max_speed = max_speed\n",
    "            def get_max_speed(self):\n",
    "                return self.max_speed\n",
    "            def set_mileage(self, mileage):\n",
    "                self.mileage = mileage\n",
    "            def get_mileage(self):\n",
    "                return self.mileage\n",
    "            def set_capacity(self, capacity):\n",
    "                self.capacity = capacity\n",
    "            def get_capacity(self):\n",
    "                return self.capacity\n",
    "            def set_name(self, name):\n",
    "                self.name = name\n",
    "            def get_name(self):\n",
    "                return self.name\n",
    "obj = Vehicle()\n",
    "obj.set_name( \"Audi\")\n",
    "print(obj.get_name())\n",
    "                            \n",
    "        "
   ]
  },
  {
   "cell_type": "code",
   "execution_count": 35,
   "metadata": {},
   "outputs": [
    {
     "name": "stdout",
     "output_type": "stream",
     "text": [
      "True\n"
     ]
    }
   ],
   "source": [
    "#2\n",
    "class Bus(Vehicle):\n",
    "    pass\n",
    "print (issubclass(Bus, Vehicle))\n",
    "    "
   ]
  },
  {
   "cell_type": "code",
   "execution_count": null,
   "metadata": {},
   "outputs": [],
   "source": [
    "#3"
   ]
  }
 ],
 "metadata": {
  "kernelspec": {
   "display_name": "Python 3",
   "language": "python",
   "name": "python3"
  },
  "language_info": {
   "codemirror_mode": {
    "name": "ipython",
    "version": 3
   },
   "file_extension": ".py",
   "mimetype": "text/x-python",
   "name": "python",
   "nbconvert_exporter": "python",
   "pygments_lexer": "ipython3",
   "version": "3.8.3"
  }
 },
 "nbformat": 4,
 "nbformat_minor": 4
}
