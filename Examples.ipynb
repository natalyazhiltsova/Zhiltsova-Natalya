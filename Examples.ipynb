{
 "cells": [
  {
   "cell_type": "code",
   "execution_count": null,
   "metadata": {},
   "outputs": [],
   "source": [
    "#решила двумя способами третью задачу\n",
    "text = input ()\n",
    "a = {}\n",
    "for i in text: \n",
    "     a[i] = a.get(i, 0) \n",
    "b = sorted(a)\n",
    "print(b)"
   ]
  },
  {
   "cell_type": "code",
   "execution_count": null,
   "metadata": {},
   "outputs": [],
   "source": [
    "#почитала про метод find, попробовала сделать с помощью него\n",
    "text = input()\n",
    "union = ''\n",
    "for i in range(len(text)):\n",
    "    #если в строке еще нет такого символа(==-1)\n",
    "    if union.find(text[i]) == -1 :\n",
    "        #то добавить этот символ в строку вывода\n",
    "        union = union + text[i]\n",
    "result = sorted(union)\n",
    "print(result)\n",
    "#работает на нескольких словах, не только на двух, но, к сожалению, считает пробел"
   ]
  },
  {
   "cell_type": "code",
   "execution_count": null,
   "metadata": {},
   "outputs": [],
   "source": []
  },
  {
   "cell_type": "code",
   "execution_count": null,
   "metadata": {},
   "outputs": [],
   "source": []
  }
 ],
 "metadata": {
  "kernelspec": {
   "display_name": "Python 3",
   "language": "python",
   "name": "python3"
  },
  "language_info": {
   "codemirror_mode": {
    "name": "ipython",
    "version": 3
   },
   "file_extension": ".py",
   "mimetype": "text/x-python",
   "name": "python",
   "nbconvert_exporter": "python",
   "pygments_lexer": "ipython3",
   "version": "3.8.3"
  }
 },
 "nbformat": 4,
 "nbformat_minor": 4
}
