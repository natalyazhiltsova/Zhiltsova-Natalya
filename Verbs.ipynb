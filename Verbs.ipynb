{
 "cells": [
  {
   "cell_type": "code",
   "execution_count": null,
   "metadata": {},
   "outputs": [],
   "source": [
    "a = \"гнать\"\n",
    "b = \"держать\"\n",
    "c = \"терпеть\"\n",
    "d = \"обидеть\"\n",
    "e = \"видеть\"\n",
    "f = \"слышать\"\n",
    "g = \"ненавидеть\"\n",
    "h = \"зависеть\"\n",
    "i = \"вертеть\"\n",
    "j = \"дышать\"\n",
    "k = \"смотреть\"\n",
    "l = \"брить\"\n",
    "m = \"стелить\"\n",
    "y = \"бежать\"\n",
    "z = \"хотеть\"\n",
    "q = \"чтить\"\n",
    "input_verb = input(\"Введите инфинитив глагола: \")\n",
    "x = input_verb.find(\"ить\")\n",
    "s = input_verb.find(\"ть\")\n",
    "if not input_verb.isalpha():\n",
    "    print(\"Неправильный ввод. Попробуйте снова. \")\n",
    "elif s < 0:\n",
    "    print(\"Вы ввели не инфинитив. Попробуйте снова. \")\n",
    "elif input_verb == a or input_verb == b or input_verb == c or input_verb == d or input_verb == e or input_verb == f or input_verb == g or input_verb == h or input_verb == i or input_verb == j  or input_verb == k:\n",
    "    print(\"2 спряжение\")\n",
    "elif input_verb == l or input_verb == m:\n",
    "    print(\"1 спряжение\")\n",
    "elif input_verb == y or input_verb == z or input_verb == q:\n",
    "    print(\"Глагол разноспрягаемый\")\n",
    "elif x > 0:\n",
    "    print(\"2 спряжение\")\n",
    "else: \n",
    "    print(\"1 спряжение\")"
   ]
  },
  {
   "cell_type": "code",
   "execution_count": null,
   "metadata": {},
   "outputs": [],
   "source": []
  },
  {
   "cell_type": "code",
   "execution_count": null,
   "metadata": {},
   "outputs": [],
   "source": []
  }
 ],
 "metadata": {
  "kernelspec": {
   "display_name": "Python 3",
   "language": "python",
   "name": "python3"
  },
  "language_info": {
   "codemirror_mode": {
    "name": "ipython",
    "version": 3
   },
   "file_extension": ".py",
   "mimetype": "text/x-python",
   "name": "python",
   "nbconvert_exporter": "python",
   "pygments_lexer": "ipython3",
   "version": "3.8.3"
  }
 },
 "nbformat": 4,
 "nbformat_minor": 4
}
