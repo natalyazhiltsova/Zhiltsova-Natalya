{
 "cells": [
  {
   "cell_type": "code",
   "execution_count": null,
   "metadata": {},
   "outputs": [],
   "source": [
    "import re\n",
    "a = [\"гнать\", \"держать\", \"терпеть\", \"обидеть\", \"видеть\", \"слышать\", \"ненавидеть\", \"зависеть\", \"вертеть\", \"дышать\", \"смотреть\"]\n",
    "b = [\"брить\", \"стелить\"]\n",
    "c = [\"бежать\", \"хотеть\", \"чтить\"]\n",
    "input_verb = input(\"Введите инфинитив глагола: \")\n",
    "d = input_verb.find(\"ить\")\n",
    "e = input_verb.find(\"ть\")\n",
    "f = input_verb.find(\"ти\")\n",
    "g = input_verb.find(\"чь\")\n",
    "if not input_verb.isalpha():\n",
    "    print(\"Неправильный ввод. Попробуйте снова. \")\n",
    "elif re.search(r'[^а-яА-ЯёЁ]',input_verb ):\n",
    "        print(\"Вы ввели не русское слово. Попробуйте снова. \")\n",
    "elif e < 0 and f < 0 and g < 0:\n",
    "    print(\"Вы ввели не инфинитив. Попробуйте снова. \")\n",
    "elif input_verb in a:\n",
    "    print(\"2 спряжение\")\n",
    "elif input_verb in b:\n",
    "    print(\"1 спряжение\")\n",
    "elif input_verb in c:\n",
    "    print(\"Глагол разноспрягаемый\")\n",
    "elif d > 0:\n",
    "    print(\"2 спряжение\")\n",
    "else: \n",
    "    print(\"1 спряжение\")"
   ]
  }
 ],
 "metadata": {
  "kernelspec": {
   "display_name": "Python 3",
   "language": "python",
   "name": "python3"
  },
  "language_info": {
   "codemirror_mode": {
    "name": "ipython",
    "version": 3
   },
   "file_extension": ".py",
   "mimetype": "text/x-python",
   "name": "python",
   "nbconvert_exporter": "python",
   "pygments_lexer": "ipython3",
   "version": "3.8.3"
  }
 },
 "nbformat": 4,
 "nbformat_minor": 4
}
